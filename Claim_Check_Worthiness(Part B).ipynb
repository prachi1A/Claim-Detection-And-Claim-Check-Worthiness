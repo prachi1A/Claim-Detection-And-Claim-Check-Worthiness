{
  "nbformat": 4,
  "nbformat_minor": 0,
  "metadata": {
    "colab": {
      "name": "Claim_Check_Worthiness.ipynb",
      "provenance": [],
      "collapsed_sections": []
    },
    "kernelspec": {
      "name": "python3",
      "display_name": "Python 3"
    },
    "language_info": {
      "name": "python"
    }
  },
  "cells": [
    {
      "cell_type": "code",
      "source": [
        "import pandas as pd\n",
        "from sklearn.feature_extraction.text import TfidfTransformer\n",
        "from sklearn.feature_extraction.text import CountVectorizer"
      ],
      "metadata": {
        "id": "jz1bO7tVQT2r"
      },
      "execution_count": null,
      "outputs": []
    },
    {
      "cell_type": "code",
      "source": [
        "from google.colab import drive\n",
        "drive.mount('/content/drive')"
      ],
      "metadata": {
        "colab": {
          "base_uri": "https://localhost:8080/"
        },
        "id": "m8n5zrcZAWFJ",
        "outputId": "57b00e28-fca5-4522-e9f1-f18438ef6a2b"
      },
      "execution_count": null,
      "outputs": [
        {
          "output_type": "stream",
          "name": "stdout",
          "text": [
            "Drive already mounted at /content/drive; to attempt to forcibly remount, call drive.mount(\"/content/drive\", force_remount=True).\n"
          ]
        }
      ]
    },
    {
      "cell_type": "code",
      "execution_count": null,
      "metadata": {
        "colab": {
          "base_uri": "https://localhost:8080/",
          "height": 424
        },
        "id": "qpY9xoVVPI1w",
        "outputId": "c453149f-48c7-4c73-c332-381867a51e78"
      },
      "outputs": [
        {
          "output_type": "execute_result",
          "data": {
            "text/plain": [
              "     topic_id             tweet_id  \\\n",
              "0    covid-19  1234964653014384644   \n",
              "1    covid-19  1234869939720216578   \n",
              "2    covid-19  1234873136304267267   \n",
              "3    covid-19  1235071285027147776   \n",
              "4    covid-19  1234911110861594624   \n",
              "..        ...                  ...   \n",
              "817  covid-19  1235914080931766274   \n",
              "818  covid-19  1235770706765451264   \n",
              "819  covid-19  1235973416995315712   \n",
              "820  covid-19  1235675024738185239   \n",
              "821  covid-19  1235682242774437888   \n",
              "\n",
              "                                             tweet_url  \\\n",
              "0    https://twitter.com/EricTrump/status/123496465...   \n",
              "1    https://twitter.com/RealJamesWoods/status/1234...   \n",
              "2    https://twitter.com/hayxsmith/status/123487313...   \n",
              "3    https://twitter.com/ipspankajnain/status/12350...   \n",
              "4    https://twitter.com/PressSec/status/1234911110...   \n",
              "..                                                 ...   \n",
              "817  https://twitter.com/DrZweliMkhize/status/12359...   \n",
              "818  https://twitter.com/globaltimesnews/status/123...   \n",
              "819  https://twitter.com/wef/status/123597341699531...   \n",
              "820  https://twitter.com/999saudsalman/status/12356...   \n",
              "821  https://twitter.com/gnuseibeh/status/123568224...   \n",
              "\n",
              "                                            tweet_text  claim  \\\n",
              "0    Since this will never get reported by the medi...      1   \n",
              "1    Thanks, #MichaelBloomberg. Here’s a handy litt...      0   \n",
              "2    Folks, when you say \"The corona virus isn't a ...      0   \n",
              "3    Just 1 case of Corona Virus in India and  peop...      1   \n",
              "4    President  @realDonaldTrump  made a commitment...      1   \n",
              "..                                                 ...    ...   \n",
              "817  Stop spreading fake news #Coronavirus https://...      0   \n",
              "818  It's fake! It's fake!' shout residents of a co...      1   \n",
              "819  Be Smart about #COVID19: 1️⃣ follow accurate p...      0   \n",
              "820  On the left: @A_AlAthbah, a Qatari puppet, att...      1   \n",
              "821  Could this be reason why #coronavirus has spre...      1   \n",
              "\n",
              "     check_worthiness  \n",
              "0                   1  \n",
              "1                   0  \n",
              "2                   0  \n",
              "3                   0  \n",
              "4                   1  \n",
              "..                ...  \n",
              "817                 0  \n",
              "818                 1  \n",
              "819                 0  \n",
              "820                 1  \n",
              "821                 1  \n",
              "\n",
              "[822 rows x 6 columns]"
            ],
            "text/html": [
              "\n",
              "  <div id=\"df-02561037-2fa1-4dd9-8f41-7748c5ba6c04\">\n",
              "    <div class=\"colab-df-container\">\n",
              "      <div>\n",
              "<style scoped>\n",
              "    .dataframe tbody tr th:only-of-type {\n",
              "        vertical-align: middle;\n",
              "    }\n",
              "\n",
              "    .dataframe tbody tr th {\n",
              "        vertical-align: top;\n",
              "    }\n",
              "\n",
              "    .dataframe thead th {\n",
              "        text-align: right;\n",
              "    }\n",
              "</style>\n",
              "<table border=\"1\" class=\"dataframe\">\n",
              "  <thead>\n",
              "    <tr style=\"text-align: right;\">\n",
              "      <th></th>\n",
              "      <th>topic_id</th>\n",
              "      <th>tweet_id</th>\n",
              "      <th>tweet_url</th>\n",
              "      <th>tweet_text</th>\n",
              "      <th>claim</th>\n",
              "      <th>check_worthiness</th>\n",
              "    </tr>\n",
              "  </thead>\n",
              "  <tbody>\n",
              "    <tr>\n",
              "      <th>0</th>\n",
              "      <td>covid-19</td>\n",
              "      <td>1234964653014384644</td>\n",
              "      <td>https://twitter.com/EricTrump/status/123496465...</td>\n",
              "      <td>Since this will never get reported by the medi...</td>\n",
              "      <td>1</td>\n",
              "      <td>1</td>\n",
              "    </tr>\n",
              "    <tr>\n",
              "      <th>1</th>\n",
              "      <td>covid-19</td>\n",
              "      <td>1234869939720216578</td>\n",
              "      <td>https://twitter.com/RealJamesWoods/status/1234...</td>\n",
              "      <td>Thanks, #MichaelBloomberg. Here’s a handy litt...</td>\n",
              "      <td>0</td>\n",
              "      <td>0</td>\n",
              "    </tr>\n",
              "    <tr>\n",
              "      <th>2</th>\n",
              "      <td>covid-19</td>\n",
              "      <td>1234873136304267267</td>\n",
              "      <td>https://twitter.com/hayxsmith/status/123487313...</td>\n",
              "      <td>Folks, when you say \"The corona virus isn't a ...</td>\n",
              "      <td>0</td>\n",
              "      <td>0</td>\n",
              "    </tr>\n",
              "    <tr>\n",
              "      <th>3</th>\n",
              "      <td>covid-19</td>\n",
              "      <td>1235071285027147776</td>\n",
              "      <td>https://twitter.com/ipspankajnain/status/12350...</td>\n",
              "      <td>Just 1 case of Corona Virus in India and  peop...</td>\n",
              "      <td>1</td>\n",
              "      <td>0</td>\n",
              "    </tr>\n",
              "    <tr>\n",
              "      <th>4</th>\n",
              "      <td>covid-19</td>\n",
              "      <td>1234911110861594624</td>\n",
              "      <td>https://twitter.com/PressSec/status/1234911110...</td>\n",
              "      <td>President  @realDonaldTrump  made a commitment...</td>\n",
              "      <td>1</td>\n",
              "      <td>1</td>\n",
              "    </tr>\n",
              "    <tr>\n",
              "      <th>...</th>\n",
              "      <td>...</td>\n",
              "      <td>...</td>\n",
              "      <td>...</td>\n",
              "      <td>...</td>\n",
              "      <td>...</td>\n",
              "      <td>...</td>\n",
              "    </tr>\n",
              "    <tr>\n",
              "      <th>817</th>\n",
              "      <td>covid-19</td>\n",
              "      <td>1235914080931766274</td>\n",
              "      <td>https://twitter.com/DrZweliMkhize/status/12359...</td>\n",
              "      <td>Stop spreading fake news #Coronavirus https://...</td>\n",
              "      <td>0</td>\n",
              "      <td>0</td>\n",
              "    </tr>\n",
              "    <tr>\n",
              "      <th>818</th>\n",
              "      <td>covid-19</td>\n",
              "      <td>1235770706765451264</td>\n",
              "      <td>https://twitter.com/globaltimesnews/status/123...</td>\n",
              "      <td>It's fake! It's fake!' shout residents of a co...</td>\n",
              "      <td>1</td>\n",
              "      <td>1</td>\n",
              "    </tr>\n",
              "    <tr>\n",
              "      <th>819</th>\n",
              "      <td>covid-19</td>\n",
              "      <td>1235973416995315712</td>\n",
              "      <td>https://twitter.com/wef/status/123597341699531...</td>\n",
              "      <td>Be Smart about #COVID19: 1️⃣ follow accurate p...</td>\n",
              "      <td>0</td>\n",
              "      <td>0</td>\n",
              "    </tr>\n",
              "    <tr>\n",
              "      <th>820</th>\n",
              "      <td>covid-19</td>\n",
              "      <td>1235675024738185239</td>\n",
              "      <td>https://twitter.com/999saudsalman/status/12356...</td>\n",
              "      <td>On the left: @A_AlAthbah, a Qatari puppet, att...</td>\n",
              "      <td>1</td>\n",
              "      <td>1</td>\n",
              "    </tr>\n",
              "    <tr>\n",
              "      <th>821</th>\n",
              "      <td>covid-19</td>\n",
              "      <td>1235682242774437888</td>\n",
              "      <td>https://twitter.com/gnuseibeh/status/123568224...</td>\n",
              "      <td>Could this be reason why #coronavirus has spre...</td>\n",
              "      <td>1</td>\n",
              "      <td>1</td>\n",
              "    </tr>\n",
              "  </tbody>\n",
              "</table>\n",
              "<p>822 rows × 6 columns</p>\n",
              "</div>\n",
              "      <button class=\"colab-df-convert\" onclick=\"convertToInteractive('df-02561037-2fa1-4dd9-8f41-7748c5ba6c04')\"\n",
              "              title=\"Convert this dataframe to an interactive table.\"\n",
              "              style=\"display:none;\">\n",
              "        \n",
              "  <svg xmlns=\"http://www.w3.org/2000/svg\" height=\"24px\"viewBox=\"0 0 24 24\"\n",
              "       width=\"24px\">\n",
              "    <path d=\"M0 0h24v24H0V0z\" fill=\"none\"/>\n",
              "    <path d=\"M18.56 5.44l.94 2.06.94-2.06 2.06-.94-2.06-.94-.94-2.06-.94 2.06-2.06.94zm-11 1L8.5 8.5l.94-2.06 2.06-.94-2.06-.94L8.5 2.5l-.94 2.06-2.06.94zm10 10l.94 2.06.94-2.06 2.06-.94-2.06-.94-.94-2.06-.94 2.06-2.06.94z\"/><path d=\"M17.41 7.96l-1.37-1.37c-.4-.4-.92-.59-1.43-.59-.52 0-1.04.2-1.43.59L10.3 9.45l-7.72 7.72c-.78.78-.78 2.05 0 2.83L4 21.41c.39.39.9.59 1.41.59.51 0 1.02-.2 1.41-.59l7.78-7.78 2.81-2.81c.8-.78.8-2.07 0-2.86zM5.41 20L4 18.59l7.72-7.72 1.47 1.35L5.41 20z\"/>\n",
              "  </svg>\n",
              "      </button>\n",
              "      \n",
              "  <style>\n",
              "    .colab-df-container {\n",
              "      display:flex;\n",
              "      flex-wrap:wrap;\n",
              "      gap: 12px;\n",
              "    }\n",
              "\n",
              "    .colab-df-convert {\n",
              "      background-color: #E8F0FE;\n",
              "      border: none;\n",
              "      border-radius: 50%;\n",
              "      cursor: pointer;\n",
              "      display: none;\n",
              "      fill: #1967D2;\n",
              "      height: 32px;\n",
              "      padding: 0 0 0 0;\n",
              "      width: 32px;\n",
              "    }\n",
              "\n",
              "    .colab-df-convert:hover {\n",
              "      background-color: #E2EBFA;\n",
              "      box-shadow: 0px 1px 2px rgba(60, 64, 67, 0.3), 0px 1px 3px 1px rgba(60, 64, 67, 0.15);\n",
              "      fill: #174EA6;\n",
              "    }\n",
              "\n",
              "    [theme=dark] .colab-df-convert {\n",
              "      background-color: #3B4455;\n",
              "      fill: #D2E3FC;\n",
              "    }\n",
              "\n",
              "    [theme=dark] .colab-df-convert:hover {\n",
              "      background-color: #434B5C;\n",
              "      box-shadow: 0px 1px 3px 1px rgba(0, 0, 0, 0.15);\n",
              "      filter: drop-shadow(0px 1px 2px rgba(0, 0, 0, 0.3));\n",
              "      fill: #FFFFFF;\n",
              "    }\n",
              "  </style>\n",
              "\n",
              "      <script>\n",
              "        const buttonEl =\n",
              "          document.querySelector('#df-02561037-2fa1-4dd9-8f41-7748c5ba6c04 button.colab-df-convert');\n",
              "        buttonEl.style.display =\n",
              "          google.colab.kernel.accessAllowed ? 'block' : 'none';\n",
              "\n",
              "        async function convertToInteractive(key) {\n",
              "          const element = document.querySelector('#df-02561037-2fa1-4dd9-8f41-7748c5ba6c04');\n",
              "          const dataTable =\n",
              "            await google.colab.kernel.invokeFunction('convertToInteractive',\n",
              "                                                     [key], {});\n",
              "          if (!dataTable) return;\n",
              "\n",
              "          const docLinkHtml = 'Like what you see? Visit the ' +\n",
              "            '<a target=\"_blank\" href=https://colab.research.google.com/notebooks/data_table.ipynb>data table notebook</a>'\n",
              "            + ' to learn more about interactive tables.';\n",
              "          element.innerHTML = '';\n",
              "          dataTable['output_type'] = 'display_data';\n",
              "          await google.colab.output.renderOutput(dataTable, element);\n",
              "          const docLink = document.createElement('div');\n",
              "          docLink.innerHTML = docLinkHtml;\n",
              "          element.appendChild(docLink);\n",
              "        }\n",
              "      </script>\n",
              "    </div>\n",
              "  </div>\n",
              "  "
            ]
          },
          "metadata": {},
          "execution_count": 59
        }
      ],
      "source": [
        "tweets=pd.read_csv(\"/content/drive/MyDrive/dataset_train_v1_english.tsv\",sep='\\t')\n",
        "tweets"
      ]
    },
    {
      "cell_type": "markdown",
      "source": [
        "PRE-PROCESSING TWEETS"
      ],
      "metadata": {
        "id": "B6Tu0fXHBshM"
      }
    },
    {
      "cell_type": "code",
      "execution_count": null,
      "metadata": {
        "id": "25566568"
      },
      "outputs": [],
      "source": [
        "tweets['tweet_text'] = tweets.tweet_text.str.lower()"
      ]
    },
    {
      "cell_type": "code",
      "execution_count": null,
      "metadata": {
        "id": "5377e8b8"
      },
      "outputs": [],
      "source": [
        "import regex as re"
      ]
    },
    {
      "cell_type": "code",
      "execution_count": null,
      "metadata": {
        "id": "060b9133",
        "outputId": "191c8dfd-235a-46a3-d48f-d3e8d861ab9c",
        "colab": {
          "base_uri": "https://localhost:8080/"
        }
      },
      "outputs": [
        {
          "output_type": "execute_result",
          "data": {
            "text/plain": [
              "0      since this will never get reported by the medi...\n",
              "1      thanks, #michaelbloomberg. here’s a handy litt...\n",
              "2      folks, when you say \"the corona virus isn't a ...\n",
              "3      just 1 case of corona virus in india and  peop...\n",
              "4      president  @realdonaldtrump  made a commitment...\n",
              "                             ...                        \n",
              "817               stop spreading fake news #coronavirus \n",
              "818    it's fake! it's fake!' shout residents of a co...\n",
              "819    be smart about #covid19: 1️⃣ follow accurate p...\n",
              "820    on the left: @a_alathbah, a qatari puppet, att...\n",
              "821    could this be reason why #coronavirus has spre...\n",
              "Name: tweet_text, Length: 822, dtype: object"
            ]
          },
          "metadata": {},
          "execution_count": 62
        }
      ],
      "source": [
        "#removing URL\n",
        "tweets.tweet_text =tweets.tweet_text.apply(lambda x: re.sub(r'https?:\\/\\/\\S+', '', x))\n",
        "tweets.tweet_text.apply(lambda x: re.sub(r\"www\\.[a-z]?\\.?(com)+|[a-z]+\\.(com)\", '', x))"
      ]
    },
    {
      "cell_type": "code",
      "execution_count": null,
      "metadata": {
        "id": "7c0fe4e9"
      },
      "outputs": [],
      "source": [
        "#Placeholders Some text cleaning was already done on the dataset which replaced some links with {link} and all the videos with [video]. They don’t seem to be of any value when doing sentiment analysis so I will remove them with regex\n",
        "tweets.tweet_text = tweets.tweet_text.apply(lambda x: re.sub(r'{link}', '', x))\n",
        "tweets.tweet_text = tweets.tweet_text.apply(lambda x: re.sub(r\"\\[video\\]\", '', x))"
      ]
    },
    {
      "cell_type": "code",
      "execution_count": null,
      "metadata": {
        "id": "d4426119"
      },
      "outputs": [],
      "source": [
        "#HTML reference characters I don’t think these are of any value to the analysis so they also should be removed\n",
        "tweets.tweet_text = tweets.tweet_text.apply(lambda x: re.sub(r'&[a-z]+;', '', x))"
      ]
    },
    {
      "cell_type": "code",
      "execution_count": null,
      "metadata": {
        "id": "ca1b7b2b"
      },
      "outputs": [],
      "source": [
        "#removing punctuations\n",
        "tweets.tweet_text = tweets.tweet_text.apply(lambda x: re.sub(r\"[^a-z\\s\\(\\-:\\)\\\\\\/\\];='#]\", '', x))"
      ]
    },
    {
      "cell_type": "code",
      "execution_count": null,
      "metadata": {
        "id": "80201e63"
      },
      "outputs": [],
      "source": [
        "#Twitter handles Prior the text pre-processing stage, I changed all the twitter handles to @mention in acknowledgement of the need for protecting people’s privacy\n",
        "tweets.tweet_text = tweets.tweet_text.apply(lambda x: re.sub(r'@mention', '', x))"
      ]
    },
    {
      "cell_type": "code",
      "execution_count": null,
      "metadata": {
        "id": "b9467b29"
      },
      "outputs": [],
      "source": [
        "#Tokenize the text\n",
        "from nltk.tokenize import TweetTokenizer\n",
        "tknzr = TweetTokenizer()\n",
        "tweets['tokens'] = tweets['tweet_text'].apply(tknzr.tokenize)"
      ]
    },
    {
      "cell_type": "code",
      "execution_count": null,
      "metadata": {
        "id": "b0d54ead",
        "outputId": "aa4aa624-03fe-4b28-c411-6a8117f73c77",
        "colab": {
          "base_uri": "https://localhost:8080/"
        }
      },
      "outputs": [
        {
          "output_type": "execute_result",
          "data": {
            "text/plain": [
              "['prime',\n",
              " 'minister',\n",
              " 'of',\n",
              " 'israel',\n",
              " 'benjamin',\n",
              " 'netanyahu',\n",
              " 'netanyahu',\n",
              " 'encourages',\n",
              " 'israelis',\n",
              " 'to',\n",
              " 'adopt',\n",
              " 'the',\n",
              " 'indian',\n",
              " 'way',\n",
              " 'of',\n",
              " 'greeting',\n",
              " '#namaste',\n",
              " 'at',\n",
              " 'a',\n",
              " 'press',\n",
              " 'conference',\n",
              " 'to',\n",
              " 'mitigate',\n",
              " 'the',\n",
              " 'spread',\n",
              " 'of',\n",
              " '#coronavirus']"
            ]
          },
          "metadata": {},
          "execution_count": 68
        }
      ],
      "source": [
        "tweets['tokens'][8]"
      ]
    },
    {
      "cell_type": "code",
      "execution_count": null,
      "metadata": {
        "id": "842e9b87"
      },
      "outputs": [],
      "source": [
        "import re \n",
        "combined = []\n",
        "for tweet in tweets['tokens']: \n",
        "    combined.append(\" \".join(tweet))\n",
        "for i in range(len(combined)):\n",
        "    combined[i] = re.sub(r'[^\\w\\s]','',combined[i]) #using regex module re to remove punctuation from the text\n",
        "    combined[i] = re.sub(r'[0-9]+','',combined[i]) #using regex module re to remove digits from the text"
      ]
    },
    {
      "cell_type": "code",
      "execution_count": null,
      "metadata": {
        "id": "d4d9fd23",
        "outputId": "ff012088-f057-404e-bdfa-27fe6a5ecfea",
        "colab": {
          "base_uri": "https://localhost:8080/"
        }
      },
      "outputs": [
        {
          "output_type": "execute_result",
          "data": {
            "text/plain": [
              "['since this will never get reported by the media i wanted to share a copy of this check realdonaldtrump is once again donating his salary back to the united states government this quarter it will be donated to hhsgov to confront contain and combat coronavirus flag of united statesflag of united states',\n",
              " 'thanks michaelbloomberg heres a handy little  unintentional  demo on the way to spread coronavirus by the most clueless person in america  touch community food as much as you can with your salivasoaked fingers minimikebloomberg droolingbloomberg',\n",
              " 'folks when you say the corona virus isnt a big deal it only kills the disabled elderly chornicallyill and immunocompromised the implication is that those people are expendable please be more careful',\n",
              " 'just case of corona virus in india and people are crazy for masks daily people die in road crashes still no craze for helmetsthinking face safetysaves be it virus or road crashes',\n",
              " 'president realdonaldtrump made a commitment to donate his salary while in office honoring that promise and to further protect the american people he is donating his q salary to hhsgov to support the efforts being undertaken to confront contain and combat coronavirus']"
            ]
          },
          "metadata": {},
          "execution_count": 70
        }
      ],
      "source": [
        "combined[:5]"
      ]
    },
    {
      "cell_type": "markdown",
      "source": [
        "PRE-PROCESSING THE CLAIM WORTHY TWEETS"
      ],
      "metadata": {
        "id": "4upBuc6gBz_6"
      }
    },
    {
      "cell_type": "code",
      "source": [
        "worthy_tweets=[]\n",
        "for i in range(len(tweets['topic_id'])):\n",
        "  if tweets['claim'][i]== 1 and tweets['check_worthiness'][i]==1:\n",
        "    worthy_tweets.append(tweets['tweet_text'][i])\n"
      ],
      "metadata": {
        "id": "eO4nNqIR_Xtb"
      },
      "execution_count": null,
      "outputs": []
    },
    {
      "cell_type": "code",
      "source": [
        "claim_worthy_tweets=pd.DataFrame(worthy_tweets,columns=['Claim_Worthy_Tweets'])\n",
        "claim_worthy_tweets"
      ],
      "metadata": {
        "colab": {
          "base_uri": "https://localhost:8080/",
          "height": 424
        },
        "id": "Qxb0SdcLA8Pp",
        "outputId": "ae0595a1-3fe3-4a3b-a644-af8ad6acbb84"
      },
      "execution_count": null,
      "outputs": [
        {
          "output_type": "execute_result",
          "data": {
            "text/plain": [
              "                                   Claim_Worthy_Tweets\n",
              "0    since this will never get reported by the medi...\n",
              "1    president  realdonaldtrump  made a commitment ...\n",
              "2    dear  realdonaldtrump : you knew about #covid ...\n",
              "3    just spoke with er doc who say he's seeing cas...\n",
              "4    #exo members #chanyeol #lay #suho and #kai hav...\n",
              "..                                                 ...\n",
              "285  #nytimes this is fake news  this video belongs...\n",
              "286  #chinas communist party is encouraging conspir...\n",
              "287  it's fake it's fake' shout residents of a comm...\n",
              "288  on the left: aalathbah a qatari puppet attacks...\n",
              "289  could this be reason why #coronavirus has spre...\n",
              "\n",
              "[290 rows x 1 columns]"
            ],
            "text/html": [
              "\n",
              "  <div id=\"df-669a5249-4051-4787-b88e-018ae0a9c1e6\">\n",
              "    <div class=\"colab-df-container\">\n",
              "      <div>\n",
              "<style scoped>\n",
              "    .dataframe tbody tr th:only-of-type {\n",
              "        vertical-align: middle;\n",
              "    }\n",
              "\n",
              "    .dataframe tbody tr th {\n",
              "        vertical-align: top;\n",
              "    }\n",
              "\n",
              "    .dataframe thead th {\n",
              "        text-align: right;\n",
              "    }\n",
              "</style>\n",
              "<table border=\"1\" class=\"dataframe\">\n",
              "  <thead>\n",
              "    <tr style=\"text-align: right;\">\n",
              "      <th></th>\n",
              "      <th>Claim_Worthy_Tweets</th>\n",
              "    </tr>\n",
              "  </thead>\n",
              "  <tbody>\n",
              "    <tr>\n",
              "      <th>0</th>\n",
              "      <td>since this will never get reported by the medi...</td>\n",
              "    </tr>\n",
              "    <tr>\n",
              "      <th>1</th>\n",
              "      <td>president  realdonaldtrump  made a commitment ...</td>\n",
              "    </tr>\n",
              "    <tr>\n",
              "      <th>2</th>\n",
              "      <td>dear  realdonaldtrump : you knew about #covid ...</td>\n",
              "    </tr>\n",
              "    <tr>\n",
              "      <th>3</th>\n",
              "      <td>just spoke with er doc who say he's seeing cas...</td>\n",
              "    </tr>\n",
              "    <tr>\n",
              "      <th>4</th>\n",
              "      <td>#exo members #chanyeol #lay #suho and #kai hav...</td>\n",
              "    </tr>\n",
              "    <tr>\n",
              "      <th>...</th>\n",
              "      <td>...</td>\n",
              "    </tr>\n",
              "    <tr>\n",
              "      <th>285</th>\n",
              "      <td>#nytimes this is fake news  this video belongs...</td>\n",
              "    </tr>\n",
              "    <tr>\n",
              "      <th>286</th>\n",
              "      <td>#chinas communist party is encouraging conspir...</td>\n",
              "    </tr>\n",
              "    <tr>\n",
              "      <th>287</th>\n",
              "      <td>it's fake it's fake' shout residents of a comm...</td>\n",
              "    </tr>\n",
              "    <tr>\n",
              "      <th>288</th>\n",
              "      <td>on the left: aalathbah a qatari puppet attacks...</td>\n",
              "    </tr>\n",
              "    <tr>\n",
              "      <th>289</th>\n",
              "      <td>could this be reason why #coronavirus has spre...</td>\n",
              "    </tr>\n",
              "  </tbody>\n",
              "</table>\n",
              "<p>290 rows × 1 columns</p>\n",
              "</div>\n",
              "      <button class=\"colab-df-convert\" onclick=\"convertToInteractive('df-669a5249-4051-4787-b88e-018ae0a9c1e6')\"\n",
              "              title=\"Convert this dataframe to an interactive table.\"\n",
              "              style=\"display:none;\">\n",
              "        \n",
              "  <svg xmlns=\"http://www.w3.org/2000/svg\" height=\"24px\"viewBox=\"0 0 24 24\"\n",
              "       width=\"24px\">\n",
              "    <path d=\"M0 0h24v24H0V0z\" fill=\"none\"/>\n",
              "    <path d=\"M18.56 5.44l.94 2.06.94-2.06 2.06-.94-2.06-.94-.94-2.06-.94 2.06-2.06.94zm-11 1L8.5 8.5l.94-2.06 2.06-.94-2.06-.94L8.5 2.5l-.94 2.06-2.06.94zm10 10l.94 2.06.94-2.06 2.06-.94-2.06-.94-.94-2.06-.94 2.06-2.06.94z\"/><path d=\"M17.41 7.96l-1.37-1.37c-.4-.4-.92-.59-1.43-.59-.52 0-1.04.2-1.43.59L10.3 9.45l-7.72 7.72c-.78.78-.78 2.05 0 2.83L4 21.41c.39.39.9.59 1.41.59.51 0 1.02-.2 1.41-.59l7.78-7.78 2.81-2.81c.8-.78.8-2.07 0-2.86zM5.41 20L4 18.59l7.72-7.72 1.47 1.35L5.41 20z\"/>\n",
              "  </svg>\n",
              "      </button>\n",
              "      \n",
              "  <style>\n",
              "    .colab-df-container {\n",
              "      display:flex;\n",
              "      flex-wrap:wrap;\n",
              "      gap: 12px;\n",
              "    }\n",
              "\n",
              "    .colab-df-convert {\n",
              "      background-color: #E8F0FE;\n",
              "      border: none;\n",
              "      border-radius: 50%;\n",
              "      cursor: pointer;\n",
              "      display: none;\n",
              "      fill: #1967D2;\n",
              "      height: 32px;\n",
              "      padding: 0 0 0 0;\n",
              "      width: 32px;\n",
              "    }\n",
              "\n",
              "    .colab-df-convert:hover {\n",
              "      background-color: #E2EBFA;\n",
              "      box-shadow: 0px 1px 2px rgba(60, 64, 67, 0.3), 0px 1px 3px 1px rgba(60, 64, 67, 0.15);\n",
              "      fill: #174EA6;\n",
              "    }\n",
              "\n",
              "    [theme=dark] .colab-df-convert {\n",
              "      background-color: #3B4455;\n",
              "      fill: #D2E3FC;\n",
              "    }\n",
              "\n",
              "    [theme=dark] .colab-df-convert:hover {\n",
              "      background-color: #434B5C;\n",
              "      box-shadow: 0px 1px 3px 1px rgba(0, 0, 0, 0.15);\n",
              "      filter: drop-shadow(0px 1px 2px rgba(0, 0, 0, 0.3));\n",
              "      fill: #FFFFFF;\n",
              "    }\n",
              "  </style>\n",
              "\n",
              "      <script>\n",
              "        const buttonEl =\n",
              "          document.querySelector('#df-669a5249-4051-4787-b88e-018ae0a9c1e6 button.colab-df-convert');\n",
              "        buttonEl.style.display =\n",
              "          google.colab.kernel.accessAllowed ? 'block' : 'none';\n",
              "\n",
              "        async function convertToInteractive(key) {\n",
              "          const element = document.querySelector('#df-669a5249-4051-4787-b88e-018ae0a9c1e6');\n",
              "          const dataTable =\n",
              "            await google.colab.kernel.invokeFunction('convertToInteractive',\n",
              "                                                     [key], {});\n",
              "          if (!dataTable) return;\n",
              "\n",
              "          const docLinkHtml = 'Like what you see? Visit the ' +\n",
              "            '<a target=\"_blank\" href=https://colab.research.google.com/notebooks/data_table.ipynb>data table notebook</a>'\n",
              "            + ' to learn more about interactive tables.';\n",
              "          element.innerHTML = '';\n",
              "          dataTable['output_type'] = 'display_data';\n",
              "          await google.colab.output.renderOutput(dataTable, element);\n",
              "          const docLink = document.createElement('div');\n",
              "          docLink.innerHTML = docLinkHtml;\n",
              "          element.appendChild(docLink);\n",
              "        }\n",
              "      </script>\n",
              "    </div>\n",
              "  </div>\n",
              "  "
            ]
          },
          "metadata": {},
          "execution_count": 72
        }
      ]
    },
    {
      "cell_type": "code",
      "execution_count": null,
      "metadata": {
        "id": "RtQYD3WcCASj"
      },
      "outputs": [],
      "source": [
        "claim_worthy_tweets['Claim_Worthy_Tweets'] = claim_worthy_tweets.Claim_Worthy_Tweets.str.lower()"
      ]
    },
    {
      "cell_type": "code",
      "execution_count": null,
      "metadata": {
        "id": "KZb_Cf5XCASk"
      },
      "outputs": [],
      "source": [
        "import regex as re"
      ]
    },
    {
      "cell_type": "code",
      "execution_count": null,
      "metadata": {
        "outputId": "4091ca83-8643-4768-f383-a379593db802",
        "colab": {
          "base_uri": "https://localhost:8080/"
        },
        "id": "3q-OgJRDCASl"
      },
      "outputs": [
        {
          "output_type": "execute_result",
          "data": {
            "text/plain": [
              "0      since this will never get reported by the medi...\n",
              "1      president  realdonaldtrump  made a commitment ...\n",
              "2      dear  realdonaldtrump : you knew about #covid ...\n",
              "3      just spoke with er doc who say he's seeing cas...\n",
              "4      #exo members #chanyeol #lay #suho and #kai hav...\n",
              "                             ...                        \n",
              "285    #nytimes this is fake news  this video belongs...\n",
              "286    #chinas communist party is encouraging conspir...\n",
              "287    it's fake it's fake' shout residents of a comm...\n",
              "288    on the left: aalathbah a qatari puppet attacks...\n",
              "289    could this be reason why #coronavirus has spre...\n",
              "Name: Claim_Worthy_Tweets, Length: 290, dtype: object"
            ]
          },
          "metadata": {},
          "execution_count": 75
        }
      ],
      "source": [
        "#removing URL\n",
        "claim_worthy_tweets.Claim_Worthy_Tweets =claim_worthy_tweets.Claim_Worthy_Tweets.apply(lambda x: re.sub(r'https?:\\/\\/\\S+', '', x))\n",
        "claim_worthy_tweets.Claim_Worthy_Tweets.apply(lambda x: re.sub(r\"www\\.[a-z]?\\.?(com)+|[a-z]+\\.(com)\", '', x))"
      ]
    },
    {
      "cell_type": "code",
      "execution_count": null,
      "metadata": {
        "id": "rELkeqnWCASl"
      },
      "outputs": [],
      "source": [
        "#Placeholders Some text cleaning was already done on the dataset which replaced some links with {link} and all the videos with [video]. They don’t seem to be of any value when doing sentiment analysis so I will remove them with regex\n",
        "claim_worthy_tweets.Claim_Worthy_Tweets = claim_worthy_tweets.Claim_Worthy_Tweets.apply(lambda x: re.sub(r'{link}', '', x))\n",
        "claim_worthy_tweets.Claim_Worthy_Tweets = claim_worthy_tweets.Claim_Worthy_Tweets.apply(lambda x: re.sub(r\"\\[video\\]\", '', x))"
      ]
    },
    {
      "cell_type": "code",
      "execution_count": null,
      "metadata": {
        "id": "5keJvmWYCASm"
      },
      "outputs": [],
      "source": [
        "#HTML reference characters I don’t think these are of any value to the analysis so they also should be removed\n",
        "claim_worthy_tweets.Claim_Worthy_Tweets = claim_worthy_tweets.Claim_Worthy_Tweets.apply(lambda x: re.sub(r'&[a-z]+;', '', x))"
      ]
    },
    {
      "cell_type": "code",
      "execution_count": null,
      "metadata": {
        "id": "QmZrsnXxCASm"
      },
      "outputs": [],
      "source": [
        "#removing punctuations\n",
        "claim_worthy_tweets.Claim_Worthy_Tweets = claim_worthy_tweets.Claim_Worthy_Tweets.apply(lambda x: re.sub(r\"[^a-z\\s\\(\\-:\\)\\\\\\/\\];='#]\", '', x))"
      ]
    },
    {
      "cell_type": "code",
      "execution_count": null,
      "metadata": {
        "id": "zrTNRE01CASn"
      },
      "outputs": [],
      "source": [
        "#Twitter handles Prior the text pre-processing stage, I changed all the twitter handles to @mention in acknowledgement of the need for protecting people’s privacy\n",
        "claim_worthy_tweets.Claim_Worthy_Tweets = claim_worthy_tweets.Claim_Worthy_Tweets.apply(lambda x: re.sub(r'@mention', '', x))"
      ]
    },
    {
      "cell_type": "code",
      "execution_count": null,
      "metadata": {
        "id": "XhXJKnsdCASn"
      },
      "outputs": [],
      "source": [
        "#Tokenize the text\n",
        "from nltk.tokenize import TweetTokenizer\n",
        "tknzr = TweetTokenizer()\n",
        "claim_worthy_tweets['tokens'] = claim_worthy_tweets['Claim_Worthy_Tweets'].apply(tknzr.tokenize)"
      ]
    },
    {
      "cell_type": "code",
      "execution_count": null,
      "metadata": {
        "outputId": "c12b7c99-1569-493f-acc9-4dc214a14d11",
        "colab": {
          "base_uri": "https://localhost:8080/"
        },
        "id": "tFAEw0UnCASo"
      },
      "outputs": [
        {
          "output_type": "execute_result",
          "data": {
            "text/plain": [
              "['to',\n",
              " 'date',\n",
              " 'the',\n",
              " 'president',\n",
              " 'has',\n",
              " 'spent',\n",
              " 'million',\n",
              " 'of',\n",
              " 'taxpayer',\n",
              " 'money',\n",
              " 'to',\n",
              " 'play',\n",
              " 'golf',\n",
              " 'that',\n",
              " 'is',\n",
              " 'years',\n",
              " 'worth',\n",
              " 'of',\n",
              " 'presidential',\n",
              " 'salary']"
            ]
          },
          "metadata": {},
          "execution_count": 81
        }
      ],
      "source": [
        "claim_worthy_tweets['tokens'][8]"
      ]
    },
    {
      "cell_type": "code",
      "execution_count": null,
      "metadata": {
        "id": "2E5ZcB56CASp"
      },
      "outputs": [],
      "source": [
        "import re \n",
        "combined_worthy_tweets = []\n",
        "for tweet in claim_worthy_tweets['tokens']: \n",
        "    combined_worthy_tweets.append(\" \".join(tweet))\n",
        "for i in range(len(combined_worthy_tweets)):\n",
        "    combined_worthy_tweets[i] = re.sub(r'[^\\w\\s]','',combined_worthy_tweets[i]) #using regex module re to remove punctuation from the text\n",
        "    combined_worthy_tweets[i] = re.sub(r'[0-9]+','',combined_worthy_tweets[i]) #using regex module re to remove digits from the text"
      ]
    },
    {
      "cell_type": "code",
      "execution_count": null,
      "metadata": {
        "outputId": "4fd84158-8e21-4a7c-a21d-bd01f8d485d8",
        "colab": {
          "base_uri": "https://localhost:8080/"
        },
        "id": "PssvURBNCASp"
      },
      "outputs": [
        {
          "output_type": "execute_result",
          "data": {
            "text/plain": [
              "['since this will never get reported by the media i wanted to share a copy of this check realdonaldtrump is once again donating his salary back to the united states government this quarter it will be donated to hhsgov to confront contain and combat coronavirus flag of united statesflag of united states',\n",
              " 'president realdonaldtrump made a commitment to donate his salary while in office honoring that promise and to further protect the american people he is donating his q salary to hhsgov to support the efforts being undertaken to confront contain and combat coronavirus',\n",
              " 'dear realdonaldtrump  you knew about covid in january it is march and your administration still does not have enough test kits that is unconscionable and a dereliction of duty stop minimizing the coronaoutbreak and start leading lives are at stake link',\n",
              " 'just spoke with er doc who say hes seeing cases hes sure are coronavirus negative for flu recent travel work in airports not allowed to test patients return to work because they cant take time off w  out a firm diagnosis other er docs seeing the same thing',\n",
              " 'exo members chanyeol lay suho and kai have donated a combined million won to korea disaster relief association hope bridge to help fight the coronavirus outbreak covid weareoneexo layzhang  zhangyixing  ']"
            ]
          },
          "metadata": {},
          "execution_count": 83
        }
      ],
      "source": [
        "combined_worthy_tweets[:5]"
      ]
    },
    {
      "cell_type": "code",
      "source": [
        "cv = CountVectorizer()\n",
        "word_count_vector = cv.fit_transform(combined)\n",
        "tf = pd.DataFrame(word_count_vector.toarray(), columns=cv.get_feature_names())\n",
        "print(tf)"
      ],
      "metadata": {
        "colab": {
          "base_uri": "https://localhost:8080/"
        },
        "id": "LPP5OyuRYdNn",
        "outputId": "f6a82d4e-e697-47eb-c663-7b6a5b5b5f7d"
      },
      "execution_count": null,
      "outputs": [
        {
          "output_type": "stream",
          "name": "stdout",
          "text": [
            "     aage  aalathbah  aaron  abandoned  abba  abbott  ability  able  \\\n",
            "0       0          0      0          0     0       0        0     0   \n",
            "1       0          0      0          0     0       0        0     0   \n",
            "2       0          0      0          0     0       0        0     0   \n",
            "3       0          0      0          0     0       0        0     0   \n",
            "4       0          0      0          0     0       0        0     0   \n",
            "..    ...        ...    ...        ...   ...     ...      ...   ...   \n",
            "817     0          0      0          0     0       0        0     0   \n",
            "818     0          0      0          0     0       0        0     0   \n",
            "819     0          0      0          0     0       0        0     0   \n",
            "820     0          1      0          0     0       0        0     0   \n",
            "821     0          0      0          0     0       0        0     0   \n",
            "\n",
            "     abortions  about  ...  youve  yr  yrold  yt  yup  yuzu  zero  \\\n",
            "0            0      0  ...      0   0      0   0    0     0     0   \n",
            "1            0      0  ...      0   0      0   0    0     0     0   \n",
            "2            0      0  ...      0   0      0   0    0     0     0   \n",
            "3            0      0  ...      0   0      0   0    0     0     0   \n",
            "4            0      0  ...      0   0      0   0    0     0     0   \n",
            "..         ...    ...  ...    ...  ..    ...  ..  ...   ...   ...   \n",
            "817          0      0  ...      0   0      0   0    0     0     0   \n",
            "818          0      0  ...      0   0      0   0    0     0     0   \n",
            "819          0      1  ...      0   0      0   0    0     0     0   \n",
            "820          0      0  ...      0   0      0   0    0     0     0   \n",
            "821          0      0  ...      0   0      0   0    0     0     0   \n",
            "\n",
            "     zhangyixing  zika  zombie  \n",
            "0              0     0       0  \n",
            "1              0     0       0  \n",
            "2              0     0       0  \n",
            "3              0     0       0  \n",
            "4              0     0       0  \n",
            "..           ...   ...     ...  \n",
            "817            0     0       0  \n",
            "818            0     0       0  \n",
            "819            0     0       0  \n",
            "820            0     0       0  \n",
            "821            0     0       0  \n",
            "\n",
            "[822 rows x 4930 columns]\n"
          ]
        },
        {
          "output_type": "stream",
          "name": "stderr",
          "text": [
            "/usr/local/lib/python3.7/dist-packages/sklearn/utils/deprecation.py:87: FutureWarning: Function get_feature_names is deprecated; get_feature_names is deprecated in 1.0 and will be removed in 1.2. Please use get_feature_names_out instead.\n",
            "  warnings.warn(msg, category=FutureWarning)\n"
          ]
        }
      ]
    },
    {
      "cell_type": "code",
      "source": [
        "word_count_vector1 = cv.fit_transform(combined)\n",
        "tfidf_transformer = TfidfTransformer()\n",
        "X = tfidf_transformer.fit_transform(word_count_vector1)\n",
        "idf = pd.DataFrame({'feature_name':cv.get_feature_names(), 'idf_weights':tfidf_transformer.idf_})\n",
        "print(idf)"
      ],
      "metadata": {
        "colab": {
          "base_uri": "https://localhost:8080/"
        },
        "id": "R1Hu8vrhYspT",
        "outputId": "2fc19933-1b2e-41db-960b-2749f744e91a"
      },
      "execution_count": null,
      "outputs": [
        {
          "output_type": "stream",
          "name": "stdout",
          "text": [
            "     feature_name  idf_weights\n",
            "0            aage     7.019809\n",
            "1       aalathbah     7.019809\n",
            "2           aaron     7.019809\n",
            "3       abandoned     6.614344\n",
            "4            abba     7.019809\n",
            "...           ...          ...\n",
            "4925         yuzu     7.019809\n",
            "4926         zero     6.614344\n",
            "4927  zhangyixing     7.019809\n",
            "4928         zika     6.614344\n",
            "4929       zombie     7.019809\n",
            "\n",
            "[4930 rows x 2 columns]\n"
          ]
        }
      ]
    },
    {
      "cell_type": "code",
      "source": [
        "tf_idf = pd.DataFrame(X.toarray() ,columns=cv.get_feature_names())\n",
        "x = tf_idf.to_numpy()"
      ],
      "metadata": {
        "id": "o4O7L_3MYuba"
      },
      "execution_count": null,
      "outputs": []
    },
    {
      "cell_type": "code",
      "source": [
        "#to check whether our dataset is imbalanced or balanced\n",
        "import seaborn as sns\n",
        "import matplotlib.pyplot as plt\n",
        "import warnings\n",
        "\n",
        "sns.countplot(tweets['claim'])\n",
        "plt.show()\n",
        "warnings.filterwarnings('ignore')"
      ],
      "metadata": {
        "id": "fco6Z-eUXjcn",
        "colab": {
          "base_uri": "https://localhost:8080/",
          "height": 334
        },
        "outputId": "be48d0e7-3b86-4c6d-d03d-18e085b3107e"
      },
      "execution_count": null,
      "outputs": [
        {
          "output_type": "stream",
          "name": "stderr",
          "text": [
            "/usr/local/lib/python3.7/dist-packages/seaborn/_decorators.py:43: FutureWarning: Pass the following variable as a keyword arg: x. From version 0.12, the only valid positional argument will be `data`, and passing other arguments without an explicit keyword will result in an error or misinterpretation.\n",
            "  FutureWarning\n"
          ]
        },
        {
          "output_type": "display_data",
          "data": {
            "text/plain": [
              "<Figure size 432x288 with 1 Axes>"
            ],
            "image/png": "[encoded data removed]"
          },
          "metadata": {
            "needs_background": "light"
          }
        }
      ]
    },
    {
      "cell_type": "code",
      "source": [
        "tweets['claim'].value_counts() "
      ],
      "metadata": {
        "colab": {
          "base_uri": "https://localhost:8080/"
        },
        "id": "NPpvnfWsjibV",
        "outputId": "4a3b6d17-a382-49d5-e5aa-784f24642269"
      },
      "execution_count": null,
      "outputs": [
        {
          "output_type": "execute_result",
          "data": {
            "text/plain": [
              "1    507\n",
              "0    315\n",
              "Name: claim, dtype: int64"
            ]
          },
          "metadata": {},
          "execution_count": 88
        }
      ]
    },
    {
      "cell_type": "code",
      "source": [
        "from sklearn.model_selection import train_test_split\n",
        "X, y = tf_idf.to_numpy(),tweets['check_worthiness'].values\n",
        "X_train, X_test, y_train, y_test = train_test_split(X, y, test_size=0.33, random_state=42)"
      ],
      "metadata": {
        "id": "0Yv8_48EkV1h"
      },
      "execution_count": null,
      "outputs": []
    },
    {
      "cell_type": "code",
      "source": [
        "from sklearn.metrics import classification_report, confusion_matrix\n",
        "from sklearn.ensemble import GradientBoostingClassifier\n",
        "\n",
        "gb_clf = GradientBoostingClassifier(n_estimators=20, learning_rate=0.75, max_features=2, max_depth=2, random_state=0)\n",
        "gb_clf.fit(X_train, y_train)\n",
        "\n",
        "print(\"Accuracy score (training): {0:.3f}\".format(gb_clf.score(X_train, y_train)))\n",
        "print(\"Accuracy score (validation): {0:.3f}\".format(gb_clf.score(X_test, y_test)))"
      ],
      "metadata": {
        "colab": {
          "base_uri": "https://localhost:8080/"
        },
        "id": "XXCrd451V9gw",
        "outputId": "c95b6f3b-d7bc-4c88-93c2-5d0526434356"
      },
      "execution_count": null,
      "outputs": [
        {
          "output_type": "stream",
          "name": "stdout",
          "text": [
            "Accuracy score (training): 0.716\n",
            "Accuracy score (validation): 0.636\n"
          ]
        }
      ]
    },
    {
      "cell_type": "code",
      "source": [
        "gb_clf2 = GradientBoostingClassifier(n_estimators=100, learning_rate=5, max_depth=8, random_state=0)\n",
        "gb_clf2.fit(X_train, y_train)\n",
        "predictions = gb_clf2.predict(X_test)\n",
        "\n",
        "print(\"Confusion Matrix:\")\n",
        "print(confusion_matrix(y_test, predictions))\n",
        "\n",
        "print(\"Classification Report\")\n",
        "print(classification_report(y_test, predictions))"
      ],
      "metadata": {
        "colab": {
          "base_uri": "https://localhost:8080/"
        },
        "id": "MODfT6wpYYzM",
        "outputId": "f21212c7-c5e8-4ccc-c26c-12414eb06615"
      },
      "execution_count": null,
      "outputs": [
        {
          "output_type": "stream",
          "name": "stdout",
          "text": [
            "Confusion Matrix:\n",
            "[[129  46]\n",
            " [ 57  40]]\n",
            "Classification Report\n",
            "              precision    recall  f1-score   support\n",
            "\n",
            "           0       0.69      0.74      0.71       175\n",
            "           1       0.47      0.41      0.44        97\n",
            "\n",
            "    accuracy                           0.62       272\n",
            "   macro avg       0.58      0.57      0.58       272\n",
            "weighted avg       0.61      0.62      0.62       272\n",
            "\n"
          ]
        }
      ]
    },
    {
      "cell_type": "code",
      "source": [
        "import seaborn as sns\n",
        "from sklearn.metrics import confusion_matrix,ConfusionMatrixDisplay\n",
        "cm=confusion_matrix(y_test, predictions)\n",
        "sns.heatmap(cm,fmt='g',annot=True)"
      ],
      "metadata": {
        "colab": {
          "base_uri": "https://localhost:8080/",
          "height": 282
        },
        "id": "ESWurvlTaVlF",
        "outputId": "631378f8-9d9d-40a3-a718-ceb77fea36c4"
      },
      "execution_count": null,
      "outputs": [
        {
          "output_type": "execute_result",
          "data": {
            "text/plain": [
              "<matplotlib.axes._subplots.AxesSubplot at 0x7f30a2d8ac50>"
            ]
          },
          "metadata": {},
          "execution_count": 145
        },
        {
          "output_type": "display_data",
          "data": {
            "text/plain": [
              "<Figure size 432x288 with 2 Axes>"
            ],
            "image/png": "[encoded data removed]"
          },
          "metadata": {
            "needs_background": "light"
          }
        }
      ]
    }
  ]
}